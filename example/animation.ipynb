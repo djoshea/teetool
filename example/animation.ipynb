{
 "cells": [
  {
   "cell_type": "code",
   "execution_count": null,
   "metadata": {
    "pycharm": {
     "is_executing": false
    }
   },
   "outputs": [],
   "source": [
    "import numpy as np\n",
    "import matplotlib.pyplot as plt\n",
    "import matplotlib.animation as animation\n",
    "import math\n",
    "import time\n",
    "\n",
    "from IPython.display import display, clear_output"
   ]
  },
  {
   "cell_type": "code",
   "execution_count": null,
   "metadata": {},
   "outputs": [],
   "source": [
    "class Aircraft:\n",
    "    def __init__(self, x, y, spd, rocd):\n",
    "        self.__x = x\n",
    "        self.__y = y\n",
    "        self.__spd = spd\n",
    "        self.__rocd = rocd\n",
    "    \n",
    "    def move(self, step):\n",
    "        self.__x -= step * self.__spd\n",
    "        self.__y -= step * self.__rocd\n",
    "        \n",
    "        v_min = 60\n",
    "        v_max = 120\n",
    "        \n",
    "        self.__spd = (math.tanh((4.0 * self.__x / 15000) - 2) + 1) * 0.5 * (v_max - v_min) + v_min\n",
    "        self.__rocd = self.__spd * math.tan(math.radians(3))\n",
    "        \n",
    "    def data(self):\n",
    "        return (self.__x, self.__y, self.__spd)"
   ]
  },
  {
   "cell_type": "code",
   "execution_count": null,
   "metadata": {},
   "outputs": [],
   "source": [
    "class Visualization:    \n",
    "    def __init__(self, time_step, speedup):\n",
    "        self.__time_step = time_step\n",
    "        self.__speedup = speedup\n",
    "        self.__ac = Aircraft(14000, 1200, 80, 7)\n",
    "        self.__next_gate = 14000\n",
    "        self.__fig = plt.figure(figsize=(13, 8))\n",
    "\n",
    "        x_label = 'distance from threshold [m]'\n",
    "        x_max = 15000\n",
    "        \n",
    "        self.__ax_alt_act = self.__subplot(221, x_label, 'altitude [m]', x_max, 1500)\n",
    "        self.__ax_alt_est = self.__subplot(222, x_label, 'altitude [m]', x_max, 1500)\n",
    "        self.__ax_spd_act = self.__subplot(223, x_label, 'speed [m/s]', x_max, 120)\n",
    "        self.__ax_spd_est = self.__subplot(224, x_label, 'speed [m/s]', x_max, 120)\n",
    "        \n",
    "    def __subplot(self, pos, x_label, y_label, x_lim, y_lim):\n",
    "        ax = self.__fig.add_subplot(pos) \n",
    "        ax.set_xlabel(x_label)\n",
    "        ax.set_ylabel(y_label)\n",
    "        ax.set_xlim(0, x_lim)\n",
    "        ax.set_ylim(0, y_lim)\n",
    "        return ax\n",
    "        \n",
    "    def __animate(self, i):\n",
    "        # TODO move simulation code to Simulator class and run in own thread, \n",
    "        #  then sync and get snapshot data here\n",
    "        self.__ac.move(self.__time_step)\n",
    "\n",
    "        \n",
    "        (x,y,v) = self.__ac.data()\n",
    "        self.__ax_alt_act.plot(x, y, 'r.')\n",
    "        self.__ax_spd_act.plot(x, v, 'b.')\n",
    "\n",
    "        if x < self.__next_gate:\n",
    "            self.__next_gate -= 500\n",
    "            self.__ax_alt_est.plot(x, y, 'r+')\n",
    "            self.__ax_spd_est.plot(x, v, 'b+')\n",
    "            \n",
    "        \n",
    "        if x < 0 or y < 0:\n",
    "            self.__ani.event_source.stop()\n",
    "            \n",
    "    def start(self):\n",
    "        self.__ani = animation.FuncAnimation(self.__fig, self.__animate, interval=int((1000*self.__time_step)/self.__speedup))\n",
    "        plt.show()"
   ]
  },
  {
   "cell_type": "code",
   "execution_count": null,
   "metadata": {},
   "outputs": [],
   "source": [
    "%matplotlib notebook\n",
    "\n",
    "vis = Visualization(.5, 10)\n",
    "vis.start()"
   ]
  },
  {
   "cell_type": "code",
   "execution_count": null,
   "metadata": {},
   "outputs": [],
   "source": []
  }
 ],
 "metadata": {
  "kernelspec": {
   "display_name": "Python 3",
   "language": "python",
   "name": "python3"
  },
  "language_info": {
   "codemirror_mode": {
    "name": "ipython",
    "version": 3
   },
   "file_extension": ".py",
   "mimetype": "text/x-python",
   "name": "python",
   "nbconvert_exporter": "python",
   "pygments_lexer": "ipython3",
   "version": "3.7.4"
  },
  "pycharm": {
   "stem_cell": {
    "cell_type": "raw",
    "metadata": {
     "collapsed": false
    },
    "source": []
   }
  }
 },
 "nbformat": 4,
 "nbformat_minor": 1
}
