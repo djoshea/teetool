{
 "cells": [
  {
   "cell_type": "code",
   "execution_count": null,
   "metadata": {
    "pycharm": {
     "is_executing": false,
     "name": "#%%\n"
    }
   },
   "outputs": [],
   "source": [
    "%matplotlib inline"
   ]
  },
  {
   "cell_type": "code",
   "execution_count": null,
   "metadata": {
    "pycharm": {
     "is_executing": false
    }
   },
   "outputs": [],
   "source": [
    "import numpy as np\n",
    "import matplotlib.pyplot as plt\n",
    "\n",
    "import time\n",
    "\n",
    "from IPython.display import display, clear_output"
   ]
  },
  {
   "cell_type": "code",
   "execution_count": null,
   "metadata": {
    "pycharm": {
     "is_executing": false
    }
   },
   "outputs": [],
   "source": [
    "class Timer:\n",
    "    def __init__(self, step):\n",
    "        self.__time = time.time()\n",
    "        self.__step = step\n",
    "    \n",
    "    def tick(self, speedup = 1):\n",
    "        elapsed = time.time() - self.__time\n",
    "        \n",
    "        wait = self.__step / speedup - elapsed\n",
    "        workload = (self.__step - wait) / self.__step\n",
    "        \n",
    "        if wait >= 0:\n",
    "            time.sleep(wait)\n",
    "\n",
    "        self.__time = time.time()\n",
    "        return workload"
   ]
  },
  {
   "cell_type": "code",
   "execution_count": null,
   "metadata": {},
   "outputs": [],
   "source": [
    "class Aircraft:\n",
    "    def __init__(self, x, y, spd, rocd):\n",
    "        self.__x = x\n",
    "        self.__y = y\n",
    "        self.__spd = spd\n",
    "        self.__rocd = rocd\n",
    "    \n",
    "    def move(self, step):\n",
    "        self.__x -= step * self.__spd\n",
    "        self.__y -= step * self.__rocd\n",
    "        \n",
    "    def pos(self):\n",
    "        return (self.__x, self.__y)"
   ]
  },
  {
   "cell_type": "code",
   "execution_count": null,
   "metadata": {
    "pycharm": {
     "is_executing": false,
     "name": "#%%\n"
    }
   },
   "outputs": [],
   "source": [
    "fig = plt.figure(figsize=(12, 6))\n",
    "ax_alt_act = fig.add_subplot(2, 2, 1) \n",
    "ax_alt_est = fig.add_subplot(2, 2, 2) \n",
    "ax_spd_act = fig.add_subplot(2, 2, 3) \n",
    "ax_spd_est = fig.add_subplot(2, 2, 4) \n",
    "\n",
    "step = .5\n",
    "timer = Timer(step)\n",
    "\n",
    "workload = []\n",
    "\n",
    "ac = Aircraft(15000, 1200, 80, 7)\n",
    "\n",
    "while True:\n",
    "    ac.move(step)\n",
    "    \n",
    "    (x,y) = ac.pos()\n",
    "    if x < 0 or y < 0:\n",
    "        break\n",
    "        \n",
    "    ax_alt_act.set_xlim(0, 10)\n",
    "    ax_alt_act.set_ylim(0, 5000)\n",
    "    ax_alt_act.plot(x / 1852, y / 0.3048, 'r+')\n",
    "    \n",
    "    \n",
    "    display(fig)\n",
    "    clear_output(wait = True)\n",
    "    \n",
    "    wl = timer.tick(10)\n",
    "    workload.append(wl)\n",
    "    \n",
    "np.mean(workload)"
   ]
  }
 ],
 "metadata": {
  "kernelspec": {
   "display_name": "Python 3",
   "language": "python",
   "name": "python3"
  },
  "language_info": {
   "codemirror_mode": {
    "name": "ipython",
    "version": 3
   },
   "file_extension": ".py",
   "mimetype": "text/x-python",
   "name": "python",
   "nbconvert_exporter": "python",
   "pygments_lexer": "ipython3",
   "version": "3.7.4"
  },
  "pycharm": {
   "stem_cell": {
    "cell_type": "raw",
    "metadata": {
     "collapsed": false
    },
    "source": []
   }
  }
 },
 "nbformat": 4,
 "nbformat_minor": 1
}
