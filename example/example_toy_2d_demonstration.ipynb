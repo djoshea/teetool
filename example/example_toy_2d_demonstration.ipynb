{
 "cells": [
  {
   "cell_type": "code",
   "execution_count": 62,
   "metadata": {
    "collapsed": true,
    "scrolled": false,
    "pycharm": {
     "is_executing": false
    }
   },
   "outputs": [],
   "source": [
    "# import package\n",
    "%load_ext autoreload\n",
    "%autoreload 2\n",
    "\n",
    "import teetool as tt"
   ]
  },
  {
   "cell_type": "code",
   "execution_count": 74,
   "metadata": {
    "collapsed": true,
    "pycharm": {
     "is_executing": false
    }
   },
   "outputs": [],
   "source": [
    "# generate trajectory data\n",
    "\n",
    "cluster_data_1 = tt.helpers.get_trajectories(ntype=0,\n",
    "                                             ndim=2,\n",
    "                                             ntraj=500,\n",
    "                                             npoints=100,\n",
    "                                             noise_std=0.0)\n",
    "\n",
    "# cluster_data_2 = tt.helpers.get_trajectories(ntype=1,\n",
    "#                                              ndim=2,\n",
    "#                                              ntraj=500,\n",
    "#                                              npoints=100,\n",
    "#                                              noise_std=0.0)"
   ]
  },
  {
   "cell_type": "code",
   "execution_count": 75,
   "metadata": {
    "collapsed": true,
    "pycharm": {
     "is_executing": false
    }
   },
   "outputs": [],
   "source": [
    "# create a world\n",
    "world = tt.World(name=\"toy\", ndim=2, resolution=[100, 100])\n",
    "\n",
    "# add data\n",
    "world.addCluster(cluster_data_1, \"one\")\n",
    "# world.addCluster(cluster_data_2, \"two\")"
   ]
  },
  {
   "cell_type": "code",
   "execution_count": 77,
   "metadata": {
    "pycharm": {
     "is_executing": false
    }
   },
   "outputs": [],
   "source": [
    "% matplotlib inline\n",
    "\n",
    "# visual\n",
    "visual = tt.visual_2d.Visual_2d(world, dpi=300)\n",
    "\n",
    "# plot 50 trajectories\n",
    "visual.plotTrajectories(ntraj=50)\n",
    "\n",
    "# obtain limits\n",
    "xlim = visual._ax.get_xlim()\n",
    "ylim = visual._ax.get_ylim()\n",
    "\n",
    "# set labels\n",
    "visual._ax.set_xlabel(\"x [m]\")\n",
    "visual._ax.set_ylabel(\"y [m]\")\n",
    "\n",
    "visual._ax.legend()\n",
    "\n",
    "# save\n",
    "visual.save(add='1')\n",
    "\n",
    "# show\n",
    "visual.show()"
   ]
  },
  {
   "cell_type": "code",
   "execution_count": 78,
   "metadata": {
    "scrolled": true,
    "pycharm": {
     "is_executing": false
    }
   },
   "outputs": [],
   "source": [
    "% matplotlib inline\n",
    "\n",
    "# visual\n",
    "visual = tt.visual_2d.Visual_2d(world, dpi=300)\n",
    "\n",
    "# plot 50 trajectories\n",
    "visual.plotTrajectories(ntraj=50)\n",
    "\n",
    "# plot points along line\n",
    "visual.plotTrajectoriesPoints(list_icluster=[0], x1=0.3, ntraj=50, marker='o', markersize=3)\n",
    "\n",
    "# obtain limits\n",
    "xlim = visual._ax.get_xlim()\n",
    "ylim = visual._ax.get_ylim()\n",
    "\n",
    "# set labels\n",
    "visual._ax.set_xlabel(\"x [m]\")\n",
    "visual._ax.set_ylabel(\"y [m]\")\n",
    "\n",
    "visual._ax.legend()\n",
    "\n",
    "# save\n",
    "visual.save(add='2')\n",
    "\n",
    "# show\n",
    "visual.show()"
   ]
  },
  {
   "cell_type": "code",
   "execution_count": 79,
   "metadata": {
    "pycharm": {
     "is_executing": false
    }
   },
   "outputs": [],
   "source": [
    "% matplotlib inline\n",
    "\n",
    "# visual\n",
    "visual = tt.visual_2d.Visual_2d(world, dpi=300)\n",
    "\n",
    "visual.plotTimeSeries(icluster=0, idim=1, ntraj=50, colour=(0.4, 0.1, 0.1))\n",
    "\n",
    "# set labels\n",
    "visual._ax.set_xlabel(r\"$\\tau$ [-]\")\n",
    "visual._ax.set_ylabel(\"y [m]\")\n",
    "visual._ax.set_ylim(ylim)\n",
    "\n",
    "line_label = visual._ax.plot([0.3,0.3], ylim,'--r')\n",
    "\n",
    "visual.plotLegend()\n",
    "\n",
    "# save\n",
    "visual.save(add='3')\n",
    "\n",
    "# show\n",
    "visual.show()"
   ]
  },
  {
   "cell_type": "code",
   "execution_count": 80,
   "metadata": {
    "scrolled": true,
    "pycharm": {
     "is_executing": false
    }
   },
   "outputs": [],
   "source": [
    "% matplotlib inline\n",
    "\n",
    "# visual\n",
    "visual = tt.visual_2d.Visual_2d(world, dpi=300)\n",
    "\n",
    "visual.plotTimeSeries(icluster=0, idim=0, ntraj=50, colour=(0.4, 0.1, 0.1))\n",
    "\n",
    "# set labels\n",
    "visual._ax.set_xlabel(r\"$\\tau$ [-]\")\n",
    "visual._ax.set_ylabel(\"x [m]\")\n",
    "visual._ax.set_ylim(xlim)\n",
    "\n",
    "line_label = visual._ax.plot([0.3,0.3], xlim,'--r')\n",
    "\n",
    "visual.plotLegend()\n",
    "\n",
    "# save\n",
    "visual.save(add='4')\n",
    "\n",
    "# show\n",
    "visual.show()"
   ]
  },
  {
   "cell_type": "code",
   "execution_count": 88,
   "metadata": {
    "collapsed": true,
    "pycharm": {
     "is_executing": false
    }
   },
   "outputs": [],
   "source": [
    "# build the model\n",
    "settings = {\"model_type\":\"ML\",\n",
    "            \"basis_type\":\"bernstein\",\n",
    "            \"nbasis\": 5,\n",
    "            \"ngaus\":100}\n",
    "\n",
    "world.buildModel(settings)"
   ]
  },
  {
   "cell_type": "code",
   "execution_count": 90,
   "outputs": [],
   "source": [
    "world.addObservation(icluster=0, observation = [(0.5, [0, 100])] )"
   ],
   "metadata": {
    "collapsed": false,
    "pycharm": {
     "name": "#%%\n",
     "is_executing": false
    }
   }
  },
  {
   "cell_type": "code",
   "execution_count": 91,
   "metadata": {
    "pycharm": {
     "is_executing": false
    }
   },
   "outputs": [],
   "source": [
    "% matplotlib inline\n",
    "\n",
    "# visual\n",
    "visual = tt.visual_2d.Visual_2d(world, dpi=300)\n",
    "\n",
    "# add confidence region(s)\n",
    "#visual.plotTrajectories(ntraj=50)\n",
    "# visual.plotTube(sdwidth=2)\n",
    "\n",
    "visual.plotSamples(ntraj=100)\n",
    "# plot points along line\n",
    "# visual.plotTrajectoriesPoints(list_icluster=[0], x1=0.3, ntraj=50, marker='o', markersize=3)\n",
    "\n",
    "# set limits\n",
    "# visual._ax.set_xlim(xlim)\n",
    "# visual._ax.set_ylim(ylim)\n",
    "\n",
    "# set labels\n",
    "visual._ax.set_xlabel(\"x [m]\")\n",
    "visual._ax.set_ylabel(\"y [m]\")\n",
    "\n",
    "# save\n",
    "visual.save(add='5')\n",
    "\n",
    "# show\n",
    "visual.show()"
   ]
  },
  {
   "cell_type": "code",
   "execution_count": 10,
   "metadata": {
    "pycharm": {
     "is_executing": false
    }
   },
   "outputs": [],
   "source": [
    "% matplotlib inline\n",
    "\n",
    "# visual\n",
    "visual = tt.visual_2d.Visual_2d(world, dpi=300)\n",
    "\n",
    "# add confidence region(s)\n",
    "visual.plotTube(sdwidth=2)\n",
    "\n",
    "# add complexity map\n",
    "cax = visual.plotComplexityMap(list_icluster=None, complexity=1, resolution=[100, 100], cmap1='hot_r')\n",
    "# add colourbar\n",
    "cbar = visual.plotColourBar(cax, ticks=[0, 1], label='Probability', shrink=0.7)\n",
    "cbar.ax.set_yticklabels(['Low', 'High'])\n",
    "\n",
    "# set limits\n",
    "visual._ax.set_xlim(xlim)\n",
    "visual._ax.set_ylim(ylim)\n",
    "\n",
    "# set labels\n",
    "visual._ax.set_xlabel(\"x [m]\")\n",
    "visual._ax.set_ylabel(\"y [m]\")\n",
    "\n",
    "# save\n",
    "visual.save(add='6')\n",
    "\n",
    "# show\n",
    "visual.show()"
   ]
  },
  {
   "cell_type": "code",
   "execution_count": 11,
   "metadata": {
    "pycharm": {
     "is_executing": false
    }
   },
   "outputs": [],
   "source": [
    "% matplotlib inline\n",
    "\n",
    "# visual\n",
    "visual = tt.visual_2d.Visual_2d(world, dpi=300)\n",
    "\n",
    "# add confidence region(s)\n",
    "visual.plotTube(sdwidth=2)\n",
    "\n",
    "# add complexity map\n",
    "cax = visual.plotComplexityMap(list_icluster=None, complexity=2, resolution=[100, 100], cmap1='hot_r')\n",
    "# add colourbar\n",
    "cbar = visual.plotColourBar(cax, ticks=[0, 1], label='Probability', shrink=0.7)\n",
    "cbar.ax.set_yticklabels(['Low', 'High'])\n",
    "\n",
    "# set limits\n",
    "visual._ax.set_xlim(xlim)\n",
    "visual._ax.set_ylim(ylim)\n",
    "\n",
    "# set labels\n",
    "visual._ax.set_xlabel(\"x [m]\")\n",
    "visual._ax.set_ylabel(\"y [m]\")\n",
    "\n",
    "# save\n",
    "visual.save(add='7')\n",
    "\n",
    "# show\n",
    "visual.show()"
   ]
  }
 ],
 "metadata": {
  "anaconda-cloud": {},
  "kernelspec": {
   "display_name": "Python 2",
   "language": "python",
   "name": "python2"
  },
  "language_info": {
   "codemirror_mode": {
    "name": "ipython",
    "version": 2
   },
   "file_extension": ".py",
   "mimetype": "text/x-python",
   "name": "python",
   "nbconvert_exporter": "python",
   "pygments_lexer": "ipython2",
   "version": "2.7.13"
  },
  "pycharm": {
   "stem_cell": {
    "cell_type": "raw",
    "source": [],
    "metadata": {
     "collapsed": false
    }
   }
  }
 },
 "nbformat": 4,
 "nbformat_minor": 2
}