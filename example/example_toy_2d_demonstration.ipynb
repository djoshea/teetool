{
 "cells": [
  {
   "cell_type": "code",
   "execution_count": 58,
   "metadata": {
    "collapsed": true,
    "scrolled": false,
    "pycharm": {
     "is_executing": false
    }
   },
   "outputs": [],
   "source": [
    "%load_ext autoreload\n",
    "%autoreload 2\n",
    "\n",
    "import teetool as tt\n",
    "import numpy as np\n",
    "import pandas as pd"
   ]
  },
  {
   "cell_type": "code",
   "execution_count": 24,
   "metadata": {
    "collapsed": true,
    "pycharm": {
     "is_executing": false
    }
   },
   "outputs": [],
   "source": [
    "# generate trajectory data\n",
    "cluster_data_1 = tt.helpers.get_trajectories(ntype=0,\n",
    "                                             ndim=2,\n",
    "                                             ntraj=500,\n",
    "                                             npoints=100,\n",
    "                                             noise_std=0.0)\n",
    "\n",
    "cluster_data_2 = tt.helpers.get_trajectories(ntype=1,\n",
    "                                             ndim=2,\n",
    "                                             ntraj=500,\n",
    "                                             npoints=100,\n",
    "                                             noise_std=0.0)"
   ]
  },
  {
   "cell_type": "code",
   "execution_count": 59,
   "metadata": {
    "collapsed": true,
    "pycharm": {
     "is_executing": false
    }
   },
   "outputs": [],
   "source": [
    "file_trajectories = \"aircraft_trajectories\"\n",
    "# read data trajectories\n",
    "df = pd.read_csv(\"data/{0}.csv\".format(file_trajectories))\n",
    "\n",
    "# rename columns\n",
    "df.rename(columns={'EASTINGS_M': 'x [m]',\n",
    "                   'NORTHINGS_M': 'y [m]',\n",
    "                   'ALTITUDE_M': 'z [m]'}, inplace=True)\n",
    "\n",
    "cluster_data_list = []\n",
    "\n",
    "count_total = 0\n",
    "\n",
    "for cluster_id in df.CLUSTER_ID.unique():\n",
    "    # pass all clusters\n",
    "    \n",
    "    dfc = df[df[\"CLUSTER_ID\"] == cluster_id]\n",
    "    \n",
    "    cluster_data = []\n",
    "\n",
    "    for trajectory_id in dfc.TRAJECTORY_ID.unique():\n",
    "        # pass all trajectories IN this cluster\n",
    "\n",
    "        # extract values\n",
    "        dft = dfc[dfc[\"TRAJECTORY_ID\"] == trajectory_id]\n",
    "        \n",
    "        xn = dft[\"x [m]\"].values/100.0 # metre to hectrometre (1 m = 0.001 hm)\n",
    "        yn = dft[\"y [m]\"].values/100.0 # metre to hectrometre\n",
    "        \n",
    "        Yn = np.array([xn, yn]).T\n",
    "        \n",
    "        (npoints, ndim) = Yn.shape\n",
    "        \n",
    "        # assume linearly distributed points (no indication otherwise)\n",
    "        xn = np.linspace(0, 1, npoints)\n",
    "\n",
    "        # add tuple to list\n",
    "        cluster_data.append((xn, Yn))\n",
    "    \n",
    "    print(\"{0}   {1}\".format(cluster_id, len(cluster_data)))\n",
    "    \n",
    "    count_total += len(cluster_data)\n",
    "    \n",
    "    cluster_data_list.append(cluster_data)\n",
    "\n",
    "print(\"---------- + \\n     {0}\".format(count_total))"
   ]
  },
  {
   "cell_type": "code",
   "execution_count": 81,
   "outputs": [],
   "source": [
    "# create a world\n",
    "world = tt.World(name=\"toy\", ndim=2, resolution=[100, 100])\n",
    "\n",
    "#for i, cluster_data in enumerate(cluster_data_list[:5]):\n",
    "world.addCluster(cluster_data_list[3], \"0\")\n",
    "\n",
    "# add data\n",
    "#world.addCluster(cluster_data_1, \"one\")\n",
    "# world.addCluster(cluster_data_2, \"two\")"
   ],
   "metadata": {
    "collapsed": false,
    "pycharm": {
     "name": "#%%\n",
     "is_executing": false
    }
   }
  },
  {
   "cell_type": "code",
   "execution_count": 82,
   "metadata": {
    "pycharm": {
     "is_executing": false
    }
   },
   "outputs": [],
   "source": [
    "visual = tt.visual_2d.Visual_2d(world, dpi=300)\n",
    "\n",
    "visual.plotTrajectories(ntraj=50)\n",
    "visual.show()"
   ]
  },
  {
   "cell_type": "code",
   "execution_count": 105,
   "metadata": {
    "collapsed": true,
    "pycharm": {
     "is_executing": false
    }
   },
   "outputs": [],
   "source": [
    "# build the model\n",
    "settings = {\"model_type\":\"ML\",\n",
    "            \"basis_type\":\"bernstein\",\n",
    "            \"nbasis\": 10,\n",
    "            \"ngaus\":100}\n",
    "\n",
    "world.buildModel(settings)"
   ]
  },
  {
   "cell_type": "code",
   "execution_count": 106,
   "outputs": [],
   "source": [
    "# x = np.array([0.5, 0.2])\n",
    "# y = np.array([[0.5], [0.2], [0.2], [0.3]])\n",
    "\n",
    "x = np.array([1.0, 0.9, 0.8])\n",
    "y = np.array([[1.0], [0.9], [0.8], [0.9], [0.85], [0.8]])\n",
    "\n",
    "world.addObservation(icluster=0, observation = (x, y) )"
   ],
   "metadata": {
    "collapsed": false,
    "pycharm": {
     "name": "#%%\n",
     "is_executing": false
    }
   }
  },
  {
   "cell_type": "code",
   "execution_count": 107,
   "metadata": {
    "pycharm": {
     "is_executing": false,
     "name": "#%%\n"
    }
   },
   "outputs": [],
   "source": [
    "# visual\n",
    "visual = tt.visual_2d.Visual_2d(world, dpi=300)\n",
    "\n",
    "visual.plotTube(sdwidth=2)\n",
    "visual.plotSamples(ntraj=10)\n",
    "visual.show()"
   ]
  },
  {
   "cell_type": "code",
   "execution_count": null,
   "outputs": [],
   "source": [
    "\n"
   ],
   "metadata": {
    "collapsed": false,
    "pycharm": {
     "name": "#%%\n"
    }
   }
  }
 ],
 "metadata": {
  "anaconda-cloud": {},
  "kernelspec": {
   "display_name": "Python 2",
   "language": "python",
   "name": "python2"
  },
  "language_info": {
   "codemirror_mode": {
    "name": "ipython",
    "version": 2
   },
   "file_extension": ".py",
   "mimetype": "text/x-python",
   "name": "python",
   "nbconvert_exporter": "python",
   "pygments_lexer": "ipython2",
   "version": "2.7.13"
  },
  "pycharm": {
   "stem_cell": {
    "cell_type": "raw",
    "source": [],
    "metadata": {
     "collapsed": false
    }
   }
  }
 },
 "nbformat": 4,
 "nbformat_minor": 2
}