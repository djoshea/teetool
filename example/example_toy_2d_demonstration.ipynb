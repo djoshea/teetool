{
 "cells": [
  {
   "cell_type": "code",
   "execution_count": 12,
   "metadata": {
    "collapsed": true,
    "scrolled": false,
    "pycharm": {
     "is_executing": false
    }
   },
   "outputs": [],
   "source": [
    "%load_ext autoreload\n",
    "%autoreload 2\n",
    "\n",
    "import teetool as tt\n",
    "import numpy as np"
   ]
  },
  {
   "cell_type": "code",
   "execution_count": 8,
   "metadata": {
    "collapsed": true,
    "pycharm": {
     "is_executing": false
    }
   },
   "outputs": [],
   "source": [
    "# generate trajectory data\n",
    "cluster_data_1 = tt.helpers.get_trajectories(ntype=0,\n",
    "                                             ndim=2,\n",
    "                                             ntraj=500,\n",
    "                                             npoints=100,\n",
    "                                             noise_std=0.0)\n",
    "\n",
    "cluster_data_2 = tt.helpers.get_trajectories(ntype=1,\n",
    "                                             ndim=2,\n",
    "                                             ntraj=500,\n",
    "                                             npoints=100,\n",
    "                                             noise_std=0.0)"
   ]
  },
  {
   "cell_type": "code",
   "execution_count": 9,
   "metadata": {
    "collapsed": true,
    "pycharm": {
     "is_executing": false
    }
   },
   "outputs": [],
   "source": [
    "# create a world\n",
    "world = tt.World(name=\"toy\", ndim=2, resolution=[100, 100])\n",
    "\n",
    "# add data\n",
    "world.addCluster(cluster_data_1, \"one\")\n",
    "# world.addCluster(cluster_data_2, \"two\")"
   ]
  },
  {
   "cell_type": "code",
   "execution_count": 10,
   "metadata": {
    "pycharm": {
     "is_executing": false
    }
   },
   "outputs": [],
   "source": [
    "visual = tt.visual_2d.Visual_2d(world, dpi=300)\n",
    "\n",
    "visual.plotTrajectories(ntraj=50)\n",
    "visual.show()"
   ]
  },
  {
   "cell_type": "code",
   "execution_count": 20,
   "metadata": {
    "collapsed": true,
    "pycharm": {
     "is_executing": false
    }
   },
   "outputs": [],
   "source": [
    "# build the model\n",
    "settings = {\"model_type\":\"ML\",\n",
    "            \"basis_type\":\"bernstein\",\n",
    "            \"nbasis\": 5,\n",
    "            \"ngaus\":100}\n",
    "\n",
    "world.buildModel(settings)"
   ]
  },
  {
   "cell_type": "code",
   "execution_count": 21,
   "outputs": [],
   "source": [
    "# x = np.array([0.5, 0.2])\n",
    "# y = np.array([[0.5], [0.2], [0.2], [0.3]])\n",
    "\n",
    "x = np.array([0.5])\n",
    "y = np.array([[0.5], [0.5]])\n",
    "\n",
    "world.addObservation(icluster=0, observation = (x, y) )"
   ],
   "metadata": {
    "collapsed": false,
    "pycharm": {
     "name": "#%%\n",
     "is_executing": false
    }
   }
  },
  {
   "cell_type": "code",
   "execution_count": 22,
   "metadata": {
    "pycharm": {
     "is_executing": false,
     "name": "#%%\n"
    }
   },
   "outputs": [],
   "source": [
    "# visual\n",
    "visual = tt.visual_2d.Visual_2d(world, dpi=300)\n",
    "\n",
    "visual.plotTube(sdwidth=2)\n",
    "visual.plotSamples(ntraj=10)\n",
    "\n",
    "visual.show()"
   ]
  }
 ],
 "metadata": {
  "anaconda-cloud": {},
  "kernelspec": {
   "display_name": "Python 2",
   "language": "python",
   "name": "python2"
  },
  "language_info": {
   "codemirror_mode": {
    "name": "ipython",
    "version": 2
   },
   "file_extension": ".py",
   "mimetype": "text/x-python",
   "name": "python",
   "nbconvert_exporter": "python",
   "pygments_lexer": "ipython2",
   "version": "2.7.13"
  },
  "pycharm": {
   "stem_cell": {
    "cell_type": "raw",
    "source": [],
    "metadata": {
     "collapsed": false
    }
   }
  }
 },
 "nbformat": 4,
 "nbformat_minor": 2
}