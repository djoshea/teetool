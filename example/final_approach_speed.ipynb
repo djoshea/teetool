{
 "cells": [
  {
   "cell_type": "code",
   "execution_count": 1,
   "metadata": {
    "collapsed": true,
    "scrolled": false,
    "pycharm": {
     "is_executing": false
    }
   },
   "outputs": [],
   "source": [
    "%load_ext autoreload\n",
    "%autoreload 2\n",
    "\n",
    "import teetool as tt\n",
    "import numpy as np\n",
    "import pandas as pd"
   ]
  },
  {
   "cell_type": "code",
   "execution_count": 10,
   "metadata": {
    "collapsed": true,
    "pycharm": {
     "is_executing": false
    }
   },
   "outputs": [],
   "source": [
    "df = pd.read_csv(\"data/eddh.csv\")\n",
    "cluster_data_list = []\n",
    "\n",
    "cluster_data = []\n",
    "\n",
    "for trajectory_id in df.flightid.unique():\n",
    "    dft = df[df[\"flightid\"] == trajectory_id]\n",
    "    Yn = np.array([\n",
    "        dft[\"gs\"].values, \n",
    "        dft[\"altitude\"].values\n",
    "    ]).T\n",
    "    \n",
    "    (npoints, _) = Yn.shape\n",
    "    \n",
    "    # assume linearly distributed points (no indication otherwise)\n",
    "    xn = np.linspace(0, 1, npoints)\n",
    "    cluster_data.append((xn, Yn))\n",
    "\n",
    "print(\"---------- + \\n     {0}\".format(len(cluster_data)))"
   ]
  },
  {
   "cell_type": "code",
   "execution_count": 11,
   "outputs": [],
   "source": [
    "world = tt.World(name=\"toy\", ndim=2)\n",
    "world.addCluster(cluster_data, \"data\")"
   ],
   "metadata": {
    "collapsed": false,
    "pycharm": {
     "name": "#%%\n",
     "is_executing": false
    }
   }
  },
  {
   "cell_type": "code",
   "execution_count": 12,
   "metadata": {
    "pycharm": {
     "is_executing": false
    }
   },
   "outputs": [],
   "source": [
    "visual = tt.visual_2d.Visual_2d(world)\n",
    "visual.plotTrajectories(ntraj=50)\n",
    "visual.show()"
   ]
  },
  {
   "cell_type": "code",
   "execution_count": 13,
   "outputs": [],
   "source": [
    "# visual\n",
    "visual = tt.visual_2d.Visual_2d(world)\n",
    "visual.plotTimeSeries(icluster=0, idim=0, ntraj=50)\n",
    "visual._ax.set_xlabel(r\"$\\tau$ [-]\")\n",
    "visual._ax.set_ylabel(\"altitude [m]\")\n",
    "visual.show()\n",
    "\n",
    "visual = tt.visual_2d.Visual_2d(world)\n",
    "visual.plotTimeSeries(icluster=0, idim=1, ntraj=50)\n",
    "visual._ax.set_xlabel(r\"$\\tau$ [-]\")\n",
    "visual._ax.set_ylabel(\"gs [m/s]\")\n",
    "visual.show()"
   ],
   "metadata": {
    "collapsed": false,
    "pycharm": {
     "name": "#%%\n",
     "is_executing": false
    }
   }
  },
  {
   "cell_type": "code",
   "execution_count": 58,
   "metadata": {
    "collapsed": true,
    "pycharm": {
     "is_executing": false,
     "name": "#%%\n"
    }
   },
   "outputs": [],
   "source": [
    "def build_model(model_type, basis_type, nbasis, ngaus):\n",
    "    # build the model\n",
    "    settings = {\"model_type\": model_type,\n",
    "                \"basis_type\": basis_type,\n",
    "                \"nbasis\": nbasis,\n",
    "                \"ngaus\":ngaus}\n",
    "    \n",
    "    world.buildModel(settings)\n",
    "    \n",
    "    x = np.array([1.0, 0.9])\n",
    "    y = np.array([\n",
    "        [0.6, 0.8],\n",
    "        [0.58, 0.7],\n",
    "    ])\n",
    "    world.addObservation(icluster=0, observation = (x, y.reshape(-1,1, order='F')) )\n",
    "\n",
    "def plot_world(idim=None):\n",
    "    visual = tt.visual_2d.Visual_2d(world)\n",
    "    visual.plotSamples(ntraj=50, idim=idim)\n",
    "    visual.show()\n",
    "    "
   ]
  },
  {
   "cell_type": "code",
   "execution_count": 59,
   "outputs": [],
   "source": [
    "build_model(\"ML\", \"bernstein\", 10, 50), plot_world(0), plot_world(1)\n",
    "build_model(\"ML\", \"bernstein\", 10, 100), plot_world(0), plot_world(1)\n",
    "build_model(\"ML\", \"bernstein\", 10, 200), plot_world(0), plot_world(1)"
   ],
   "metadata": {
    "collapsed": false,
    "pycharm": {
     "name": "#%%\n",
     "is_executing": false
    }
   }
  }
 ],
 "metadata": {
  "anaconda-cloud": {},
  "kernelspec": {
   "display_name": "Python 2",
   "language": "python",
   "name": "python2"
  },
  "language_info": {
   "codemirror_mode": {
    "name": "ipython",
    "version": 2
   },
   "file_extension": ".py",
   "mimetype": "text/x-python",
   "name": "python",
   "nbconvert_exporter": "python",
   "pygments_lexer": "ipython2",
   "version": "2.7.13"
  },
  "pycharm": {
   "stem_cell": {
    "cell_type": "raw",
    "source": [],
    "metadata": {
     "collapsed": false
    }
   }
  }
 },
 "nbformat": 4,
 "nbformat_minor": 2
}