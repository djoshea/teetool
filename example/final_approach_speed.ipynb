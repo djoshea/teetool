{
 "cells": [
  {
   "cell_type": "code",
   "execution_count": 11,
   "metadata": {
    "collapsed": true,
    "scrolled": false,
    "pycharm": {
     "is_executing": false
    }
   },
   "outputs": [],
   "source": [
    "%load_ext autoreload\n",
    "%autoreload 2\n",
    "\n",
    "import teetool as tt\n",
    "import numpy as np\n",
    "import pandas as pd\n",
    "\n",
    "import matplotlib.pyplot as plt"
   ]
  },
  {
   "cell_type": "code",
   "execution_count": 2,
   "metadata": {
    "collapsed": true,
    "pycharm": {
     "is_executing": false
    }
   },
   "outputs": [],
   "source": [
    "df = pd.read_csv(\"data/eddm_eddh.csv\")\n",
    "cluster_data_list = []\n",
    "\n",
    "cluster_data = []\n",
    "\n",
    "for trajectory_id in df.flightid.unique():\n",
    "    dft = df[df[\"flightid\"] == trajectory_id]\n",
    "    Yn = np.array([\n",
    "        dft[\"groundspeed\"].values, \n",
    "        dft[\"altitude\"].values\n",
    "    ]).T\n",
    "    \n",
    "    (npoints, _) = Yn.shape\n",
    "    xn = dft[\"dist_to_thr\"].values\n",
    "    \n",
    "    cluster_data.append((xn, Yn))\n",
    "\n",
    "print(\"---------- + \\n     {0}\".format(len(cluster_data)))"
   ]
  },
  {
   "cell_type": "code",
   "execution_count": 16,
   "outputs": [],
   "source": [
    "world = tt.World(name=\"toy\", ndim=2)\n",
    "\n",
    "# this normalizes x (dist to thr.) in interval [0,1]\n",
    "world.addCluster(cluster_data, \"data\")"
   ],
   "metadata": {
    "collapsed": false,
    "pycharm": {
     "name": "#%%\n",
     "is_executing": false
    }
   }
  },
  {
   "cell_type": "code",
   "execution_count": 14,
   "metadata": {
    "pycharm": {
     "is_executing": false
    }
   },
   "outputs": [],
   "source": [
    "visual = tt.visual_2d.Visual_2d(world)\n",
    "visual.plotTrajectories(ntraj=50)\n",
    "visual.show()"
   ]
  },
  {
   "cell_type": "code",
   "execution_count": 15,
   "outputs": [],
   "source": [
    "# visual\n",
    "visual = tt.visual_2d.Visual_2d(world)\n",
    "visual.plotTimeSeries(icluster=0, idim=0, ntraj=50)\n",
    "visual._ax.set_xlabel(r\"$\\tau$ [-]\")\n",
    "visual._ax.set_ylabel(\"gs [m/s]\")\n",
    "visual.show()\n",
    "\n",
    "visual = tt.visual_2d.Visual_2d(world)\n",
    "visual.plotTimeSeries(icluster=0, idim=1, ntraj=50)\n",
    "visual._ax.set_xlabel(r\"$\\tau$ [-]\")\n",
    "visual._ax.set_ylabel(\"altitude [m]\")\n",
    "visual.show()"
   ],
   "metadata": {
    "collapsed": false,
    "pycharm": {
     "name": "#%%\n",
     "is_executing": false
    }
   }
  },
  {
   "cell_type": "code",
   "execution_count": 14,
   "metadata": {
    "collapsed": true,
    "pycharm": {
     "is_executing": false,
     "name": "#%%\n"
    }
   },
   "outputs": [],
   "source": [
    "def build_model(model_type, basis_type, nbasis, ngaus):\n",
    "    # build the model\n",
    "    settings = {\"model_type\": model_type,\n",
    "                \"basis_type\": basis_type,\n",
    "                \"nbasis\": nbasis,\n",
    "                \"ngaus\":ngaus}    \n",
    "    world.buildModel(settings)\n",
    "\n",
    "def world_observe(nobs):\n",
    "    x = np.array([1.0, 0.95, 0.9, 0.8, 0.7, 0.6, 0.5, 0.2])\n",
    "    y = np.array([\n",
    "        # [.6, .6], # 1.00\n",
    "        # [.6, .6], # 0.95\n",
    "       [.6 * (180.5 - 55.3) + 55.3, .6 * (2445.0 - 478.0) + 478.0], # 1.00\n",
    "       [.6 * (180.5 - 55.3) + 55.3, .6 * (2445.0 - 478.0) + 478.0], # 0.95\n",
    "    ])\n",
    "    world.addObservation(icluster=0, observation = (x[:nobs], y[:nobs].reshape(-1,1, order='F')) )\n",
    "    \n",
    "def plot_world(idim=None):\n",
    "    visual = tt.visual_2d.Visual_2d(world)\n",
    "    visual.plotSamples(ntraj=50, idim=idim)\n",
    "    if idim is None:\n",
    "        visual.plotTube(sdwidth=2, resolution=[500,500,500])\n",
    "    visual.show()"
   ]
  },
  {
   "cell_type": "code",
   "execution_count": 19,
   "outputs": [],
   "source": [
    "build_model(\"ML\", \"bernstein\", 10, 100)\n",
    "\n",
    "#world_observe(1)\n",
    "\n",
    "plot_world(0), plot_world(1), plot_world();\n",
    "print(world.getOutline())"
   ],
   "metadata": {
    "collapsed": false,
    "pycharm": {
     "name": "#%%\n",
     "is_executing": false
    }
   }
  },
  {
   "cell_type": "code",
   "execution_count": null,
   "outputs": [],
   "source": [
    "def analyze():\n",
    "    #world.getTubeStats()\n",
    "    mds = world.getMarginalDistribution(x = 0.0)\n",
    "    m, S = mds[0]\n",
    "    \n",
    "    m = np.asarray(m).reshape(-1)\n",
    "    S = S\n",
    "    return m[0], S[0]\n",
    "\n",
    "x, y = [], []\n",
    "\n",
    "for i in range(0, 8):\n",
    "    world_observe(i)\n",
    "    m, s = analyze()\n",
    "    x.append(m)\n",
    "    y.append(s)\n",
    "    \n",
    "#plt.plot(range(0,8), x)\n",
    "plt.plot(range(0,8), y)\n",
    "plt.show()"
   ],
   "metadata": {
    "collapsed": false,
    "pycharm": {
     "name": "#%%\n"
    }
   }
  }
 ],
 "metadata": {
  "anaconda-cloud": {},
  "kernelspec": {
   "name": "python3",
   "language": "python",
   "display_name": "Python 3"
  },
  "language_info": {
   "codemirror_mode": {
    "name": "ipython",
    "version": 2
   },
   "file_extension": ".py",
   "mimetype": "text/x-python",
   "name": "python",
   "nbconvert_exporter": "python",
   "pygments_lexer": "ipython2",
   "version": "2.7.13"
  },
  "pycharm": {
   "stem_cell": {
    "cell_type": "raw",
    "source": [],
    "metadata": {
     "collapsed": false
    }
   }
  }
 },
 "nbformat": 4,
 "nbformat_minor": 2
}